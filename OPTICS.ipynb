{
 "cells": [
  {
   "cell_type": "code",
   "execution_count": null,
   "id": "acae2e7c-6bdb-467a-afe3-077ccbb04116",
   "metadata": {},
   "outputs": [],
   "source": [
    "import pandas as pd\n",
    "from sklearnex import patch_sklearn\n",
    "patch_sklearn()\n",
    "from sklearn.cluster import OPTICS, cluster_optics_dbscan"
   ]
  },
  {
   "cell_type": "markdown",
   "id": "1f0688a1-eacd-4b7e-968d-9559fbfa62de",
   "metadata": {},
   "source": [
    "# OPTICS"
   ]
  },
  {
   "cell_type": "code",
   "execution_count": null,
   "id": "02a02a1f-83c2-4c39-a3d6-ac4c88997a17",
   "metadata": {},
   "outputs": [],
   "source": [
    "X = pd.read_pickle('./data/unlabeled_behavior.pkl')"
   ]
  }
 ],
 "metadata": {
  "kernelspec": {
   "display_name": "Python 3 (ipykernel)",
   "language": "python",
   "name": "python3"
  },
  "language_info": {
   "codemirror_mode": {
    "name": "ipython",
    "version": 3
   },
   "file_extension": ".py",
   "mimetype": "text/x-python",
   "name": "python",
   "nbconvert_exporter": "python",
   "pygments_lexer": "ipython3",
   "version": "3.9.12"
  }
 },
 "nbformat": 4,
 "nbformat_minor": 5
}
