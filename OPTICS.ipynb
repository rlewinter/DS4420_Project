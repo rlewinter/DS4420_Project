{
 "cells": [
  {
   "cell_type": "code",
   "execution_count": 6,
   "id": "acae2e7c-6bdb-467a-afe3-077ccbb04116",
   "metadata": {},
   "outputs": [
    {
     "name": "stderr",
     "output_type": "stream",
     "text": [
      "Intel(R) Extension for Scikit-learn* enabled (https://github.com/intel/scikit-learn-intelex)\n"
     ]
    }
   ],
   "source": [
    "!pip install gower\n",
    "\n",
    "import pandas as pd\n",
    "import numpy as np\n",
    "import pickle\n",
    "import gower\n",
    "from collections import namedtuple\n",
    "\n",
    "import matplotlib as mpl\n",
    "import matplotlib.pyplot as plt\n",
    "import matplotlib.lines as mlines\n",
    "\n",
    "from sklearnex import patch_sklearn\n",
    "patch_sklearn()\n",
    "from sklearn.cluster import OPTICS, cluster_optics_dbscan"
   ]
  },
  {
   "cell_type": "markdown",
   "id": "1f0688a1-eacd-4b7e-968d-9559fbfa62de",
   "metadata": {},
   "source": [
    "# OPTICS\n",
    "\n",
    "\\[**TALK ABOUT INITIAL RUNS, CHOOSING PARAMETER RANGES, CHOOSING OPTIONS (KD-TREE, DBSCAN EXTRACTION, ETC) AND SO FORTH**\\]"
   ]
  },
  {
   "cell_type": "markdown",
   "id": "9cb76eef",
   "metadata": {},
   "source": [
    "Define a model:\n",
    "min_samples = (95, 215, 15)\n",
    "max_eps = (1, 2, 0.5)\n",
    "eps = (1, 2, 0.5)"
   ]
  },
  {
   "cell_type": "raw",
   "id": "1722d44f-f048-4190-8521-602de0354853",
   "metadata": {},
   "source": [
    "model = OPTICS(min_samples=250, max_eps = 1.5, algorithm = 'kd_tree')\n",
    "model.fit(X)\n",
    "labels = model.labels_[model.ordering_]\n",
    "\n",
    "labels_050 = cluster_optics_dbscan(\n",
    "    reachability=model.reachability_,\n",
    "    core_distances=model.core_distances_,\n",
    "    ordering=model.ordering_,\n",
    "    eps=0.5,\n",
    ")\n",
    "\n",
    "labels_100 = cluster_optics_dbscan(\n",
    "    reachability=model.reachability_,\n",
    "    core_distances=model.core_distances_,\n",
    "    ordering=model.ordering_,\n",
    "    eps=1,\n",
    ")\n",
    "\n",
    "labels_150 = cluster_optics_dbscan(\n",
    "    reachability=model.reachability_,\n",
    "    core_distances=model.core_distances_,\n",
    "    ordering=model.ordering_,\n",
    "    eps=1.5,\n",
    ")\n",
    "\n",
    "labels_200 = cluster_optics_dbscan(\n",
    "    reachability=model.reachability_,\n",
    "    core_distances=model.core_distances_,\n",
    "    ordering=model.ordering_,\n",
    "    eps=2,\n",
    ")"
   ]
  },
  {
   "cell_type": "raw",
   "id": "b1a2f909-4a1d-4a65-925f-7eb1df2fdbec",
   "metadata": {
    "jupyter": {
     "outputs_hidden": true
    },
    "tags": []
   },
   "source": [
    "eps = '1'\n",
    "plot_with_ys(embeddings[0], embeddings[1], ['LinearSVC', 'OPTICS -dbscan', str(s), str(eps)], y_LinearSVC, \n",
    "                     labels_100, ext_names=True)\n",
    "plot_with_ys(embeddings[0], embeddings[1], ['LogReg', 'OPTICS -dbscan', str(s), str(eps)], y_LogReg, \n",
    "             labels_100, ext_names=True)\n",
    "plot_with_ys(embeddings[0], embeddings[1], ['RidgeReg', 'OPTICS -dbscan', str(s), str(eps)], y_RidgeReg, \n",
    "             labels_100, ext_names=True)"
   ]
  },
  {
   "cell_type": "markdown",
   "id": "47b5b1ab",
   "metadata": {},
   "source": [
    "Load data:"
   ]
  },
  {
   "cell_type": "code",
   "execution_count": 30,
   "id": "02a02a1f-83c2-4c39-a3d6-ac4c88997a17",
   "metadata": {},
   "outputs": [],
   "source": [
    "y_LinearSVC = pd.read_pickle('./data/y_pred_LinearSVC.pkl')\n",
    "y_LogReg = pd.read_pickle('./data/y_pred_LogReg.pkl')\n",
    "y_RidgeReg = pd.read_pickle('./data/y_pred_RidgeReg.pkl')\n",
    "X = pd.read_pickle('./data/unlabeled_behavior.pkl')\n",
    "embedding = pd.read_pickle('./data/embedding.pkl')"
   ]
  },
  {
   "cell_type": "markdown",
   "id": "b039d486-5055-42c4-be35-0a34b161a57c",
   "metadata": {},
   "source": [
    "Generate Gower matrix and data structure to store cluster assignments and scorings from parameter search:"
   ]
  },
  {
   "cell_type": "code",
   "execution_count": null,
   "id": "60d5bf42-e050-478c-a16e-3e5b8a3b0952",
   "metadata": {},
   "outputs": [],
   "source": [
    "X_gower = pd.DataFrame(gower.gower_matrix(X, cat_features=[False, False, False, False, True,\n",
    "                                                           False, False, False, True]))\n",
    "\n",
    "#define parameter ranges\n",
    "min_samples_range = np.arange(95, 201, 15)\n",
    "max_eps_range = np.arange(1.0, 2.1, 0.5)\n",
    "eps_range = np.arange(1.0, 2.1, 0.5)\n",
    "\n",
    "#create a data structure to store cluster assignments and scorings\n",
    "Key = namedtuple('Key', ['s', 'me', 'e'])\n",
    "Labels_Scores = {Key(s, me, e):{'labels_g':None, 'labels_e':None, 'relabels_g':None, 'relabels_e':None,\n",
    "                                'score_e':{'lsvm':None, 'lr':None, 'rr':None},\n",
    "                                'score_g':{'lsvm':None, 'lr':None, 'rr':None}}\n",
    "                 for s, me, e in [[s, me, e] for s in min_samples_range\n",
    "                                             for me in max_eps_range\n",
    "                                             for e in eps_range]}"
   ]
  },
  {
   "cell_type": "markdown",
   "id": "a08d066d",
   "metadata": {},
   "source": [
    "Define plotting function (this is modified from the version for TSNE):"
   ]
  },
  {
   "cell_type": "code",
   "execution_count": 3,
   "id": "5aa2d9dd",
   "metadata": {},
   "outputs": [],
   "source": [
    "# plot_with_ys(x1, x2, names, y_class, y_cluster, ext_names=False, relabeled=False, score=None)\n",
    "# Generates a 2d plot of the given data. If only y_class is given, data points will be colored by\n",
    "# classification. If y_cluster is also given, data points will be colored by cluster label with shapes\n",
    "# corresponding to classification. Intended for use with embeddings generated by TSNE. Plots with\n",
    "# extended names will go to a scratch folder so we can compare selections of parameters for OPTICS.\n",
    "# Once we've chosen parameters these will be used through all future plots so the plots that go\n",
    "# into our report can go without extended names.\n",
    "# Variables:\n",
    "# x1        -  array representing the position on the x-axis of each point in a 2d embedding from TSNE\n",
    "# x2        -  array representing the position on the y-axis of each point in a 2d embedding from TSNE\n",
    "# names     -  an array of string names for the classification algorithm used (index 0) and\n",
    "#              the clustering algorithm used (index 1). If ext_names=True, also includes the \n",
    "#              min_samples (index 2), max_eps (index 3), eps (index 4), and the distance \n",
    "#              metric (index 5). For use in plotting.\n",
    "# y_class   -  an array of classifications from a supervised model\n",
    "# y_cluster -  an array of cluster labelings\n",
    "# ext_names -  whether to look for extended names for the plot (default: False)\n",
    "# relabeled -  whether clusters have been relabeled to enable computation of mutual information scores\n",
    "#              (default: False)\n",
    "# score     -  if relabeled=True, mutual information score of the clustering against the classification\n",
    "#              (default: None)\n",
    "@mpl.rc_context({'image.cmap': 'tab10', 'figure.figsize': [12.0, 8.0]})\n",
    "def plot_with_ys(x1, x2, names, y_class, y_cluster, ext_names=False, relabeled=False, score=None):\n",
    "    \n",
    "    fig, ax = plt.subplots()\n",
    "        \n",
    "    #create a colormap of the correct size, doing this bc just giving 'tab10' to the cmap\n",
    "    #parameter gives colors from each end of the palette instead of sequentially\n",
    "    colors = mpl.colors.ListedColormap(plt.get_cmap('tab10')(np.arange(len(np.unique(y_cluster)))))\n",
    "\n",
    "    #plot the two predicted classes with different markers, coloring by cluster assignment\n",
    "    x1_normal = [a for a,b in zip(x1, y_class) if b == 0]\n",
    "    x2_normal = [a for a,b in zip(x2, y_class) if b == 0]\n",
    "    scatter1 = ax.scatter(x1_normal, x2_normal, marker='|', cmap=colors,\n",
    "                          c=y_cluster[np.argwhere(y_class == 0)])\n",
    "\n",
    "    x1_outlier = [a for a,b in zip(x1, y_class) if b == 1]\n",
    "    x2_outlier = [a for a,b in zip(x2, y_class) if b == 1]\n",
    "    scatter2 = ax.scatter(x1_outlier, x2_outlier, marker='_', cmap=colors,\n",
    "                          c=y_cluster[np.argwhere(y_class == 1)])\n",
    "\n",
    "    #create a legend for differentiating between colors\n",
    "    legend1 = ax.legend(*scatter1.legend_elements(), loc=\"lower left\", title=\"Clusters\")\n",
    "    ax.add_artist(legend1)\n",
    "\n",
    "    #create a legend from scratch for differentiating between markers\n",
    "    vline = mlines.Line2D([], [], color='black', marker='|', linestyle='None',\n",
    "                          markersize=10, label='0 (normal)')\n",
    "    hline = mlines.Line2D([], [], color='black', marker='_', linestyle='None',\n",
    "                          markersize=10, label='1 (outlier)')\n",
    "    legend2 = ax.legend(handles=[vline, hline], loc=\"lower right\", title=\"Classes\")\n",
    "\n",
    "    if relabeled: #add text reporting the mutual information score\n",
    "        #TODO\n",
    "\n",
    "    #insert given names to title and filename\n",
    "    if ext_names: #with names for min_samples, max_eps, eps, and distance metric\n",
    "        if relabeled: #plot has relabeled clusterings\n",
    "            plt.title('TSNE Relabeled '+names[1]+' Clusterings & ' +names[0]+' Classifications s'\n",
    "                      +names[2]+' me'+names[3]+' e'+names[4]+' '+names[5])\n",
    "            filename = './figures/scratch/TSNE_relabeled_'+names[1]+'_'+names[0]+'_s'+names[2]+'_me'\n",
    "                        +names[3]+'_e'+names[4]+'_'+names[5]+'.png'\n",
    "        else: #plot has original clusterings\n",
    "            plt.title('TSNE '+names[1]+' Clusterings & ' +names[0]+' Classifications s'\n",
    "                      +names[2]+' me'+names[3]+' e'+names[4]+' '+names[5])\n",
    "            filename = './figures/scratch/TSNE_'+names[1]+'_'+names[0]+'_s'+names[2]+'_me'\n",
    "                        +names[3]+'_e'+names[4]+'_'+names[5]+'.png'\n",
    "\n",
    "    else: #without names for min_samples, max_eps, eps, and distance metric\n",
    "        if relabeled: #plot has relabeled clusterings\n",
    "            plt.title('TSNE Relabeled '+names[1]+' Clusterings & ' +names[0]+' Classifications')\n",
    "            filename = './figures/TSNE_relabeled_'+names[1]+'_'+names[0]+'.png'\n",
    "        else:\n",
    "            plt.title('TSNE '+names[1]+' Clusterings & ' +names[0]+' Classifications')\n",
    "            filename = './figures/TSNE_'+names[1]+'_'+names[0]+'.png'\n",
    "\n",
    "    plt.savefig(filename, format='png')\n",
    "\n",
    "    plt.show()"
   ]
  },
  {
   "cell_type": "markdown",
   "id": "5f5d1ec0-0a20-4438-94b4-8db8bf1cc005",
   "metadata": {},
   "source": [
    "Let's search over the range of parameters identified by our initial runs. We will generate and plot clusterings for each parameter combination, relabel clusterings so that the largest component is 0 (normal) and all others are 1 (outlier), compute mutual information scores against classifications, and replot with relabeled clusters and scores."
   ]
  },
  {
   "cell_type": "code",
   "execution_count": null,
   "id": "c6eb293b-b24a-46aa-a09d-d00f27b98128",
   "metadata": {},
   "outputs": [],
   "source": [
    "%%capture\n",
    "\n",
    "#first let's just compute the cluster assignments and plot them\n",
    "for s in min_samples_range:\n",
    "    \n",
    "    for me in max_eps_range:\n",
    "        \n",
    "        #fit model with gower distance\n",
    "        model_g = OPTICS(min_samples=s, max_eps=me, metric='precomputed',\n",
    "                         algorithm='kd_tree', n_jobs=-1)\n",
    "        model_g.fit(X_gower)\n",
    "        \n",
    "        #fit model with euclidean distance\n",
    "        model_e = OPTICS(min_samples=s, max_eps=me, metric='euclidean',\n",
    "                         algorithm='kd_tree', n_jobs=-1)\n",
    "        model_e.fit(X)\n",
    "        \n",
    "        for e in eps_range:\n",
    "            \n",
    "            #extract clusters \n",
    "            labels_g = cluster_optics_dbscan(reachability=model_g.reachability_,\n",
    "                                             core_distances=model_g.core_distances_,\n",
    "                                             ordering=model_g.ordering_, eps=e)\n",
    "            labels_e = cluster_optics_dbscan(reachability=model_e.reachability_,\n",
    "                                             core_distances=model_e.core_distances_,\n",
    "                                             ordering=model_e.ordering_, eps=e)\n",
    "            \n",
    "            #add clusters to Labels_Scores dictionary\n",
    "            Labels_Scores[Key(s, me, e)]['labels_g'] = labels_g\n",
    "            Labels_Scores[Key(s, me, e)]['labels_e'] = labels_e\n",
    "            \n",
    "            #plot original clusterings for gower\n",
    "            plot_with_ys(embedding[0], embedding[1], \n",
    "                         ['LinearSVC', 'OPTICS', str(s), str(me), str(e), 'gower'],\n",
    "                         y_LinearSVC, labels_g, ext_names=True)\n",
    "            plot_with_ys(embedding[0], embedding[1], \n",
    "                         ['LogReg', 'OPTICS', str(s), str(me), str(e), 'gower'],\n",
    "                         y_LogReg, labels_g, ext_names=True)\n",
    "            plot_with_ys(embedding[0], embedding[1], \n",
    "                         ['RidgeReg', 'OPTICS', str(s), str(me), str(e), 'gower'],\n",
    "                         y_RidgeReg, labels_g, ext_names=True)\n",
    "            \n",
    "            #plot original clusterings for euclidean\n",
    "            plot_with_ys(embedding[0], embedding[1], \n",
    "                         ['LinearSVC', 'OPTICS', str(s), str(me), str(e), 'euclidean'],\n",
    "                         y_LinearSVC, labels_e, ext_names=True)\n",
    "            plot_with_ys(embedding[0], embedding[1], \n",
    "                         ['LogReg', 'OPTICS', str(s), str(me), str(e), 'euclidean'],\n",
    "                         y_LogReg, labels_e, ext_names=True)\n",
    "            plot_with_ys(embedding[0], embedding[1], \n",
    "                         ['RidgeReg', 'OPTICS', str(s), str(me), str(e), 'euclidean'],\n",
    "                         y_RidgeReg, labels_e, ext_names=True)"
   ]
  },
  {
   "cell_type": "code",
   "execution_count": null,
   "id": "3ee4d843-b71b-4d21-a13b-21318c6809c8",
   "metadata": {},
   "outputs": [],
   "source": [
    "%%capture\n",
    "\n",
    "#now that we've seen the initial plots, let's relabel the clusters, compute mutual information scores,\n",
    "#and generate plots with relabelings and scores\n",
    "for s, me, e in [[s, me, e] for s in min_samples_range\n",
    "                            for me in max_eps_range\n",
    "                            for e in eps_range]:\n",
    "    \n",
    "    #create relabelings for gower\n",
    "    \n",
    "    \n",
    "    #create relabelings for euclidean\n",
    "    \n",
    "\n",
    "    #compute mutual information scores for gower\n",
    "    \n",
    "    \n",
    "    #compute mutual information scores for euclidean\n",
    "    \n",
    "    \n",
    "    #add relabelings and scores to Labels_Scores dictionary\n",
    "    \n",
    "    \n",
    "    #plot relabeled clusterings with scores\n",
    "    \n",
    "    "
   ]
  },
  {
   "cell_type": "code",
   "execution_count": null,
   "id": "843ce579",
   "metadata": {},
   "outputs": [],
   "source": []
  }
 ],
 "metadata": {
  "kernelspec": {
   "display_name": "Python 3 (ipykernel)",
   "language": "python",
   "name": "python3"
  },
  "language_info": {
   "codemirror_mode": {
    "name": "ipython",
    "version": 3
   },
   "file_extension": ".py",
   "mimetype": "text/x-python",
   "name": "python",
   "nbconvert_exporter": "python",
   "pygments_lexer": "ipython3",
   "version": "3.9.12"
  }
 },
 "nbformat": 4,
 "nbformat_minor": 5
}
