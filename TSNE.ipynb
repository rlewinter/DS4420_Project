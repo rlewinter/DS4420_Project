{
 "cells": [
  {
   "cell_type": "code",
   "execution_count": null,
   "id": "e79af889-f2d3-410b-a936-e4cecff0a64b",
   "metadata": {},
   "outputs": [],
   "source": [
    "import pandas as pd\n",
    "from sklearnex import patch_sklearn\n",
    "patch_sklearn()\n",
    "from sklearn.manifold import TSNE"
   ]
  },
  {
   "cell_type": "markdown",
   "id": "c71af257-7514-4089-8845-41aa469aaa38",
   "metadata": {},
   "source": [
    "# TSNE"
   ]
  },
  {
   "cell_type": "code",
   "execution_count": null,
   "id": "e1ff7c98-d90a-461f-9192-084e0661dc19",
   "metadata": {},
   "outputs": [],
   "source": [
    "X = pd.read_pickle('./data/unlabeled_behavior.pkl')"
   ]
  }
 ],
 "metadata": {
  "kernelspec": {
   "display_name": "Python 3 (ipykernel)",
   "language": "python",
   "name": "python3"
  },
  "language_info": {
   "codemirror_mode": {
    "name": "ipython",
    "version": 3
   },
   "file_extension": ".py",
   "mimetype": "text/x-python",
   "name": "python",
   "nbconvert_exporter": "python",
   "pygments_lexer": "ipython3",
   "version": "3.9.12"
  }
 },
 "nbformat": 4,
 "nbformat_minor": 5
}
