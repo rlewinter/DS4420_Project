{
 "cells": [
  {
   "cell_type": "code",
   "execution_count": null,
   "id": "c36eb196-a509-4a6d-9022-47fc084d484b",
   "metadata": {},
   "outputs": [],
   "source": [
    "import pandas as pd\n",
    "from sklearnex import patch_sklearn\n",
    "patch_sklearn()\n",
    "from sklearn.cluster import DBSCAN"
   ]
  },
  {
   "cell_type": "markdown",
   "id": "a16ee4e7-afb6-43c9-b428-a2ea873eee78",
   "metadata": {},
   "source": [
    "# DBSCAN"
   ]
  },
  {
   "cell_type": "code",
   "execution_count": null,
   "id": "f45f4410-51b4-4706-9947-eef3e9fae252",
   "metadata": {},
   "outputs": [],
   "source": [
    "X = pd.read_pickle('./data/unlabeled_behavior.pkl')"
   ]
  }
 ],
 "metadata": {
  "kernelspec": {
   "display_name": "Python 3 (ipykernel)",
   "language": "python",
   "name": "python3"
  },
  "language_info": {
   "codemirror_mode": {
    "name": "ipython",
    "version": 3
   },
   "file_extension": ".py",
   "mimetype": "text/x-python",
   "name": "python",
   "nbconvert_exporter": "python",
   "pygments_lexer": "ipython3",
   "version": "3.9.12"
  }
 },
 "nbformat": 4,
 "nbformat_minor": 5
}
